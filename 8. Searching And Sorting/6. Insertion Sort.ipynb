{
 "cells": [
  {
   "cell_type": "markdown",
   "metadata": {},
   "source": [
    "# Insertion Sort\n",
    "\n",
    "<p>Insertion Sort builds the final sorted array (or list) one item at a time. It is much less efficient on large lists than more advanced algorithms such as quicksort, heapsort, or merge sort.</p>"
   ]
  },
  {
   "cell_type": "code",
   "execution_count": 18,
   "metadata": {},
   "outputs": [],
   "source": [
    "def insertion_sort(arr):\n",
    "    \n",
    "    # For every index in array (from 1 - n-1)\n",
    "    for i in range(1,len(arr)):\n",
    "        #print('FOR i = {}'.format(i))\n",
    "        \n",
    "        # Set current values and position\n",
    "        currentvalue = arr[i]\n",
    "        position = i\n",
    "        \n",
    "        # Sorted Sublist\n",
    "        while position > 0 and arr[position-1] > currentvalue:\n",
    "            #print('\\t i: {}, position: {}, arr[position-1] > currentvalue: {}>{}'.format(i, position, arr[position-1],currentvalue ))\n",
    "            \n",
    "            arr[position] = arr[position-1]\n",
    "            position = position-1\n",
    "            \n",
    "        arr[position] = currentvalue"
   ]
  },
  {
   "cell_type": "code",
   "execution_count": 19,
   "metadata": {},
   "outputs": [],
   "source": [
    "arr = [4,6,2,7,4,9,11,23,13,2]\n",
    "insertion_sort(arr)"
   ]
  },
  {
   "cell_type": "code",
   "execution_count": 20,
   "metadata": {},
   "outputs": [
    {
     "data": {
      "text/plain": [
       "[2, 2, 4, 4, 6, 7, 9, 11, 13, 23]"
      ]
     },
     "execution_count": 20,
     "metadata": {},
     "output_type": "execute_result"
    }
   ],
   "source": [
    "arr"
   ]
  }
 ],
 "metadata": {
  "kernelspec": {
   "display_name": "Python 3",
   "language": "python",
   "name": "python3"
  },
  "language_info": {
   "codemirror_mode": {
    "name": "ipython",
    "version": 3
   },
   "file_extension": ".py",
   "mimetype": "text/x-python",
   "name": "python",
   "nbconvert_exporter": "python",
   "pygments_lexer": "ipython3",
   "version": "3.8.5"
  }
 },
 "nbformat": 4,
 "nbformat_minor": 4
}
