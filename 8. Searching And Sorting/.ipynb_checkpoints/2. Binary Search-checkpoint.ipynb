{
 "cells": [
  {
   "cell_type": "markdown",
   "metadata": {},
   "source": [
    "# Binary Search"
   ]
  },
  {
   "cell_type": "code",
   "execution_count": 7,
   "metadata": {},
   "outputs": [],
   "source": [
    "def binary_search(arr,ele):\n",
    "    \n",
    "    # First and last index values\n",
    "    first = 0\n",
    "    last = len(arr)-1\n",
    "    found = False\n",
    "    \n",
    "    while first <= last and not found:\n",
    "        # Calculating mid value of arr\n",
    "        mid = (first+last)/2\n",
    "        mid = int(mid)\n",
    "        \n",
    "        # Match found\n",
    "        if arr[mid] == ele:\n",
    "            found = True\n",
    "            \n",
    "        # Set new midpoints up or down depending on comparison\n",
    "        else:\n",
    "            # Lower half case\n",
    "            if ele < arr[mid]:\n",
    "                last = mid-1\n",
    "                \n",
    "            # Upper half case\n",
    "            else:\n",
    "                first = mid + 1 \n",
    "                \n",
    "    return found"
   ]
  },
  {
   "cell_type": "code",
   "execution_count": 10,
   "metadata": {},
   "outputs": [
    {
     "data": {
      "text/plain": [
       "True"
      ]
     },
     "execution_count": 10,
     "metadata": {},
     "output_type": "execute_result"
    }
   ],
   "source": [
    "# Arr must be sorted\n",
    "arr = [1,2,3,4,5,6,7,8,9,10]\n",
    "\n",
    "binary_search(arr,4)"
   ]
  },
  {
   "cell_type": "code",
   "execution_count": 11,
   "metadata": {},
   "outputs": [
    {
     "data": {
      "text/plain": [
       "False"
      ]
     },
     "execution_count": 11,
     "metadata": {},
     "output_type": "execute_result"
    }
   ],
   "source": [
    "binary_search(arr,12)"
   ]
  },
  {
   "cell_type": "markdown",
   "metadata": {},
   "source": [
    "## Binary Search - (Using Recursion)"
   ]
  },
  {
   "cell_type": "code",
   "execution_count": 18,
   "metadata": {},
   "outputs": [],
   "source": [
    "def binary_search_rec(arr,ele):\n",
    "    \n",
    "    # Base case check\n",
    "    if len(arr) == 0:\n",
    "        return False\n",
    "    \n",
    "    # Recursive case\n",
    "    else:\n",
    "        \n",
    "        # Finding mid pt value of arr ele\n",
    "        mid = len(arr)/2\n",
    "        mid = int(mid)\n",
    "        \n",
    "        # Found case\n",
    "        if arr[mid] == ele:\n",
    "            return True\n",
    "        \n",
    "        else:\n",
    "            # Call again on first half (left)\n",
    "            if ele < arr[mid]:\n",
    "                return binary_search_rec(arr[:mid], ele)\n",
    "            # Call again on second half (right)\n",
    "            else:\n",
    "                return binary_search_rec(arr[mid+1:], ele)"
   ]
  },
  {
   "cell_type": "code",
   "execution_count": 19,
   "metadata": {},
   "outputs": [
    {
     "data": {
      "text/plain": [
       "True"
      ]
     },
     "execution_count": 19,
     "metadata": {},
     "output_type": "execute_result"
    }
   ],
   "source": [
    "binary_search_rec(arr, 4)"
   ]
  },
  {
   "cell_type": "code",
   "execution_count": 20,
   "metadata": {},
   "outputs": [
    {
     "data": {
      "text/plain": [
       "False"
      ]
     },
     "execution_count": 20,
     "metadata": {},
     "output_type": "execute_result"
    }
   ],
   "source": [
    "binary_search_rec(arr, 15)"
   ]
  }
 ],
 "metadata": {
  "kernelspec": {
   "display_name": "Python 3",
   "language": "python",
   "name": "python3"
  },
  "language_info": {
   "codemirror_mode": {
    "name": "ipython",
    "version": 3
   },
   "file_extension": ".py",
   "mimetype": "text/x-python",
   "name": "python",
   "nbconvert_exporter": "python",
   "pygments_lexer": "ipython3",
   "version": "3.8.5"
  }
 },
 "nbformat": 4,
 "nbformat_minor": 4
}
