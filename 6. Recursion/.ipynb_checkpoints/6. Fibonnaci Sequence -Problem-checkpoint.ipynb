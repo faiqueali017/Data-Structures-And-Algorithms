{
 "cells": [
  {
   "cell_type": "markdown",
   "metadata": {},
   "source": [
    "# Fibonnaci Sequence"
   ]
  },
  {
   "cell_type": "markdown",
   "metadata": {},
   "source": [
    "#### Problem Statement\n",
    "<p>\n",
    "Implement a Fibonnaci Sequence in three different ways:\n",
    "\n",
    "<li>Recursively</li>\n",
    "<li>Dynamically (Using Memoization to store results)</li>\n",
    "<li>Iteratively</li>\n",
    "Remember that a fibonacci sequence: 0,1,1,2,3,5,8,13,21,... starts off with a base case checking to see if n = 0 or 1, then it returns 1.\n",
    "\n",
    "Else it returns fib(n-1)+fib(n+2).\n",
    "</p>"
   ]
  },
  {
   "cell_type": "markdown",
   "metadata": {},
   "source": [
    "## Recursive Approach:\n",
    "\n",
    "<p>\n",
    "    The recursive solution's exponential time Big-O , with O(2^n). However, its a very simple and basic implementation to consider:\n",
    "</p>"
   ]
  },
  {
   "cell_type": "code",
   "execution_count": 8,
   "metadata": {},
   "outputs": [],
   "source": [
    "def fib_rec(n):\n",
    "    \n",
    "    # Base Case\n",
    "    if n == 0 or n == 1:\n",
    "        return n\n",
    "    \n",
    "    # Recursion\n",
    "    else:\n",
    "        return fib_rec(n-1) + fib_rec(n-2)"
   ]
  },
  {
   "cell_type": "code",
   "execution_count": 9,
   "metadata": {},
   "outputs": [
    {
     "data": {
      "text/plain": [
       "55"
      ]
     },
     "execution_count": 9,
     "metadata": {},
     "output_type": "execute_result"
    }
   ],
   "source": [
    "fib_rec(10)"
   ]
  },
  {
   "cell_type": "markdown",
   "metadata": {},
   "source": [
    "## Dynamic Approach:\n",
    "\n",
    "<p>\n",
    "    In the form it is implemented here, the cache is set beforehand and is based on the desired <b>n</b> number of the Fibonacci Sequence. Note how we check it the cache[n] != None, meaning we have a check to know wether or not to keep setting the cache (and more importantly keep cache of old results!)\n",
    "</p>"
   ]
  },
  {
   "cell_type": "code",
   "execution_count": 13,
   "metadata": {},
   "outputs": [],
   "source": [
    "n = 10\n",
    "cache = [None] * (n + 1)\n",
    "\n",
    "def fib_dyn(n):\n",
    "    \n",
    "    # Base Case\n",
    "    if n == 0 or n == 1:\n",
    "        return n\n",
    "    \n",
    "    # Check cache of that particular 'n'\n",
    "    if cache[n] != None:\n",
    "        return cache[n]\n",
    "    \n",
    "    # Keep setting cache\n",
    "    cache[n] = fib_dyn(n-1) + fib_dyn(n-2)\n",
    "    \n",
    "    return cache[n]"
   ]
  },
  {
   "cell_type": "code",
   "execution_count": 14,
   "metadata": {},
   "outputs": [
    {
     "data": {
      "text/plain": [
       "55"
      ]
     },
     "execution_count": 14,
     "metadata": {},
     "output_type": "execute_result"
    }
   ],
   "source": [
    "fib_dyn(10)"
   ]
  },
  {
   "cell_type": "markdown",
   "metadata": {},
   "source": [
    "## Iterative Approach:"
   ]
  },
  {
   "cell_type": "code",
   "execution_count": 5,
   "metadata": {},
   "outputs": [],
   "source": [
    "def fib_iter(n):\n",
    "    \n",
    "    # Set starting point in tuples\n",
    "    #a = 0\n",
    "    #b = 1\n",
    "    (a,b) = 0,1\n",
    "    \n",
    "    # Follow algorithm\n",
    "    for i in range(n):\n",
    "        \n",
    "        (a,b) = b, a + b\n",
    "        \n",
    "    return a"
   ]
  },
  {
   "cell_type": "code",
   "execution_count": 6,
   "metadata": {},
   "outputs": [
    {
     "data": {
      "text/plain": [
       "55"
      ]
     },
     "execution_count": 6,
     "metadata": {},
     "output_type": "execute_result"
    }
   ],
   "source": [
    "fib_iter(10)"
   ]
  },
  {
   "cell_type": "markdown",
   "metadata": {},
   "source": [
    "## Test Cases:"
   ]
  },
  {
   "cell_type": "code",
   "execution_count": 25,
   "metadata": {},
   "outputs": [
    {
     "name": "stdout",
     "output_type": "stream",
     "text": [
      "Passed all tests.\n"
     ]
    }
   ],
   "source": [
    "\"\"\"\n",
    "TESTING THE SOLUTION\n",
    "\"\"\"\n",
    "\n",
    "from nose.tools import assert_equal\n",
    "\n",
    "class TestFib(object):\n",
    "    \n",
    "    def test(self,solution):\n",
    "        assert_equal(solution(10),55)\n",
    "        assert_equal(solution(1),1)\n",
    "        assert_equal(solution(23),28657) \n",
    "        print('Passed all tests.')\n",
    "        \n",
    "        \n",
    "\n",
    "t = TestFib()\n",
    "\n",
    "t.test(fib_rec)"
   ]
  },
  {
   "cell_type": "code",
   "execution_count": 26,
   "metadata": {},
   "outputs": [
    {
     "name": "stdout",
     "output_type": "stream",
     "text": [
      "Passed all tests.\n"
     ]
    }
   ],
   "source": [
    "t.test(fib_iter)"
   ]
  },
  {
   "cell_type": "code",
   "execution_count": null,
   "metadata": {},
   "outputs": [],
   "source": [
    "#t.test(fib_dyn) # Note, will need to reset cache size for each test!"
   ]
  }
 ],
 "metadata": {
  "kernelspec": {
   "display_name": "Python 3",
   "language": "python",
   "name": "python3"
  },
  "language_info": {
   "codemirror_mode": {
    "name": "ipython",
    "version": 3
   },
   "file_extension": ".py",
   "mimetype": "text/x-python",
   "name": "python",
   "nbconvert_exporter": "python",
   "pygments_lexer": "ipython3",
   "version": "3.8.5"
  }
 },
 "nbformat": 4,
 "nbformat_minor": 4
}
