{
 "cells": [
  {
   "cell_type": "markdown",
   "metadata": {},
   "source": [
    "# Dynamic Arrays\n",
    "<p>In the below snippet we can seen that the size of the array grows dynamically as the elements appends. </p>"
   ]
  },
  {
   "cell_type": "code",
   "execution_count": 8,
   "metadata": {},
   "outputs": [
    {
     "name": "stdout",
     "output_type": "stream",
     "text": [
      "Length: 0; Size in bytes: 56 \n",
      "Length: 1; Size in bytes: 88 \n",
      "Length: 2; Size in bytes: 88 \n",
      "Length: 3; Size in bytes: 88 \n",
      "Length: 4; Size in bytes: 88 \n",
      "Length: 5; Size in bytes: 120 \n",
      "Length: 6; Size in bytes: 120 \n",
      "Length: 7; Size in bytes: 120 \n",
      "Length: 8; Size in bytes: 120 \n",
      "Length: 9; Size in bytes: 184 \n",
      "Length: 10; Size in bytes: 184 \n",
      "Length: 11; Size in bytes: 184 \n",
      "Length: 12; Size in bytes: 184 \n",
      "Length: 13; Size in bytes: 184 \n",
      "Length: 14; Size in bytes: 184 \n"
     ]
    }
   ],
   "source": [
    "import sys\n",
    "\n",
    "#Set n\n",
    "n = 15\n",
    "\n",
    "data = [] \n",
    "\n",
    "for i in range(n):\n",
    "    # Number of Elements\n",
    "    a = len(data)\n",
    "    \n",
    "    # Actual Size in Bytes\n",
    "    b = sys.getsizeof(data)\n",
    "    \n",
    "    print('Length: {0}; Size in bytes: {1} '.format(a,b))\n",
    "    \n",
    "    # Increase length by one\n",
    "    data.append(n)"
   ]
  },
  {
   "cell_type": "markdown",
   "metadata": {},
   "source": [
    "## Excercise"
   ]
  },
  {
   "cell_type": "markdown",
   "metadata": {},
   "source": [
    "<p> A quick note on <b>public</b> vs <b>private</b> methods. We can use an underscore _ before the method name to keep it non-public. For example:</p>"
   ]
  },
  {
   "cell_type": "code",
   "execution_count": 10,
   "metadata": {},
   "outputs": [],
   "source": [
    "class M(object):\n",
    "    \n",
    "    def public(self):\n",
    "        print ('Use Tab to see me!')\n",
    "        \n",
    "    def _private(self):\n",
    "        print (\"You won't be able to Tab to see me!\")"
   ]
  },
  {
   "cell_type": "code",
   "execution_count": 12,
   "metadata": {},
   "outputs": [
    {
     "name": "stdout",
     "output_type": "stream",
     "text": [
      "You won't be able to Tab to see me!\n"
     ]
    }
   ],
   "source": [
    "m = M()\n",
    "m._private()"
   ]
  },
  {
   "cell_type": "code",
   "execution_count": 13,
   "metadata": {},
   "outputs": [
    {
     "name": "stdout",
     "output_type": "stream",
     "text": [
      "Use Tab to see me!\n"
     ]
    }
   ],
   "source": [
    "m.public()"
   ]
  },
  {
   "cell_type": "markdown",
   "metadata": {},
   "source": [
    "### Dynamic Array Implementation"
   ]
  },
  {
   "cell_type": "code",
   "execution_count": 20,
   "metadata": {},
   "outputs": [],
   "source": [
    "import ctypes\n",
    "\n",
    "class DynamicArray(object):\n",
    "    \n",
    "    #Initialize\n",
    "    def __init__(self):\n",
    "        self.n = 0   #for count\n",
    "        self.capacity = 1  #for default capacity as 1\n",
    "        self.A = self.make_array(self.capacity)  #to call func\n",
    "        \n",
    "    def __len__(self):\n",
    "        \"\"\"\n",
    "        Return number of elements sorted in array\n",
    "        \"\"\"\n",
    "        return self.n\n",
    "    \n",
    "    def __getitem__(self,k):\n",
    "        \"\"\"\n",
    "        Return element at index k\n",
    "        \"\"\"\n",
    "        if not 0 <= k < self.n:\n",
    "            return IndexError('K is out of bounds!')\n",
    "        \n",
    "        return self.A[k]\n",
    "    \n",
    "    def append(self, ele):\n",
    "        \"\"\"\n",
    "        Add element to end of the array\n",
    "        \"\"\"\n",
    "        if self.n == self.capacity:\n",
    "            self._resize(2*self.capacity) #Double capacity if not enough room\n",
    "        \n",
    "        self.A[self.n] = ele #Set self.n index to element\n",
    "        self.n += 1\n",
    "        \n",
    "    def _resize(self,new_cap):\n",
    "        \"\"\"\n",
    "        Resize internal array to capacity new_cap\n",
    "        \"\"\"\n",
    "        B = self.make_array(new_cap) # New bigger array\n",
    "        \n",
    "        for k in range(self.n): # Reference all existing values\n",
    "            B[k] = self.A[k]\n",
    "            \n",
    "        self.A = B # Call A the new bigger array\n",
    "        self.capacity = new_cap # Reset the capacity\n",
    "        \n",
    "    def make_array(self, new_cap):\n",
    "        \"\"\"\n",
    "        Returns a new array with new_cap capacity\n",
    "        \"\"\"\n",
    "        return (new_cap * ctypes.py_object)()"
   ]
  },
  {
   "cell_type": "code",
   "execution_count": 21,
   "metadata": {},
   "outputs": [],
   "source": [
    "# Instantiate\n",
    "arr = DynamicArray()"
   ]
  },
  {
   "cell_type": "code",
   "execution_count": 22,
   "metadata": {},
   "outputs": [],
   "source": [
    "# Append new element\n",
    "arr.append(1)"
   ]
  },
  {
   "cell_type": "code",
   "execution_count": 23,
   "metadata": {},
   "outputs": [
    {
     "data": {
      "text/plain": [
       "1"
      ]
     },
     "execution_count": 23,
     "metadata": {},
     "output_type": "execute_result"
    }
   ],
   "source": [
    "# Check length\n",
    "len(arr)"
   ]
  },
  {
   "cell_type": "code",
   "execution_count": 24,
   "metadata": {},
   "outputs": [],
   "source": [
    "# Append new element\n",
    "arr.append(2)"
   ]
  },
  {
   "cell_type": "code",
   "execution_count": 25,
   "metadata": {},
   "outputs": [
    {
     "data": {
      "text/plain": [
       "2"
      ]
     },
     "execution_count": 25,
     "metadata": {},
     "output_type": "execute_result"
    }
   ],
   "source": [
    "# Check length\n",
    "len(arr)"
   ]
  },
  {
   "cell_type": "code",
   "execution_count": 26,
   "metadata": {},
   "outputs": [
    {
     "data": {
      "text/plain": [
       "1"
      ]
     },
     "execution_count": 26,
     "metadata": {},
     "output_type": "execute_result"
    }
   ],
   "source": [
    "# Index\n",
    "arr[0]"
   ]
  },
  {
   "cell_type": "code",
   "execution_count": 27,
   "metadata": {},
   "outputs": [
    {
     "data": {
      "text/plain": [
       "2"
      ]
     },
     "execution_count": 27,
     "metadata": {},
     "output_type": "execute_result"
    }
   ],
   "source": [
    "arr[1]"
   ]
  }
 ],
 "metadata": {
  "kernelspec": {
   "display_name": "Python 3",
   "language": "python",
   "name": "python3"
  },
  "language_info": {
   "codemirror_mode": {
    "name": "ipython",
    "version": 3
   },
   "file_extension": ".py",
   "mimetype": "text/x-python",
   "name": "python",
   "nbconvert_exporter": "python",
   "pygments_lexer": "ipython3",
   "version": "3.8.5"
  }
 },
 "nbformat": 4,
 "nbformat_minor": 4
}
