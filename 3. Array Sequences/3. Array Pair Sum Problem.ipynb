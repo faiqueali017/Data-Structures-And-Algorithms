{
 "cells": [
  {
   "cell_type": "markdown",
   "metadata": {},
   "source": [
    "# Array Pair Sum Problem\n",
    "<p>\n",
    "    <b>Problem</b>\n",
    "<p>Given an integer array, output all the <b>unique</b> pairs that sum up to a specific value <b>k</b>.<p>\n",
    "\n",
    "<p>So the input:\n",
    "\n",
    "pair_sum([1,3,2,2],4)\n",
    "\n",
    "would return 2 pairs:\n",
    "\n",
    "(1,3)\n",
    "    \n",
    "(2,2)\n",
    "</p>\n"
   ]
  },
  {
   "cell_type": "code",
   "execution_count": 44,
   "metadata": {},
   "outputs": [],
   "source": [
    "def pair_sum(arr,k):\n",
    "    #Step1: Check for pair min 2 needed, if not return\n",
    "    if len(arr)<2:\n",
    "        return\n",
    "    \n",
    "    # Step2: Sets for tracking\n",
    "    seen = set()\n",
    "    output = set()\n",
    "    \n",
    "    # Step3: Checking for pairs\n",
    "    for num in arr:\n",
    "        target = k - num\n",
    "        \n",
    "        if target not in seen:\n",
    "            seen.add(num)\n",
    "        else:\n",
    "            output.add( ((min(num,target)), max(num,target)) )\n",
    "            \n",
    "    # Step4: Print output sets\n",
    "    print('\\n'.join(map(str,list(output))) )\n",
    "    "
   ]
  },
  {
   "cell_type": "code",
   "execution_count": 45,
   "metadata": {},
   "outputs": [
    {
     "name": "stdout",
     "output_type": "stream",
     "text": [
      "(1, 3)\n",
      "(2, 2)\n"
     ]
    }
   ],
   "source": [
    "pair_sum([1,3,2,2],4)"
   ]
  },
  {
   "cell_type": "markdown",
   "metadata": {},
   "source": [
    "### Dry run:\n",
    "<p>\n",
    "    <p> \n",
    "        <b>Iteration 1:</b> target: 4-1=3 ; if => seen.add(1)\n",
    "    </p>\n",
    "    <p> \n",
    "        <b>Iteration 2:</b> target: 4-3=1 ; else => output.add({1,3})\n",
    "    </p>\n",
    "    <p> \n",
    "        <b>Iteration 3:</b> target: 4-2=2 ; if => seen.add(2)\n",
    "    </p>\n",
    "    <p> \n",
    "        <b>Iteration 4:</b> target: 4-2=2 ; else => output.add({2,2})\n",
    "    </p>\n",
    "</p>"
   ]
  },
  {
   "cell_type": "markdown",
   "metadata": {},
   "source": [
    "### Test Case"
   ]
  },
  {
   "cell_type": "code",
   "execution_count": 43,
   "metadata": {},
   "outputs": [
    {
     "name": "stdout",
     "output_type": "stream",
     "text": [
      "ALL TEST CASES PASSED\n"
     ]
    }
   ],
   "source": [
    "\"\"\"\n",
    "TEST YOUR SOLUTION\n",
    "\"\"\"\n",
    "from nose.tools import assert_equal\n",
    "\n",
    "class TestPair(object):\n",
    "    \n",
    "    def test(self,sol):\n",
    "        assert_equal(sol([1,9,2,8,3,7,4,6,5,5,13,14,11,13,-1],10),None)\n",
    "        assert_equal(sol([1,2,3,1],3),None)\n",
    "        assert_equal(sol([1,3,2,2],4),None)\n",
    "        print('ALL TEST CASES PASSED')\n",
    "        \n",
    "#Run tests\n",
    "t = TestPair()\n",
    "t.test(pair_sum)\n",
    "    "
   ]
  }
 ],
 "metadata": {
  "kernelspec": {
   "display_name": "Python 3",
   "language": "python",
   "name": "python3"
  },
  "language_info": {
   "codemirror_mode": {
    "name": "ipython",
    "version": 3
   },
   "file_extension": ".py",
   "mimetype": "text/x-python",
   "name": "python",
   "nbconvert_exporter": "python",
   "pygments_lexer": "ipython3",
   "version": "3.8.5"
  }
 },
 "nbformat": 4,
 "nbformat_minor": 4
}
