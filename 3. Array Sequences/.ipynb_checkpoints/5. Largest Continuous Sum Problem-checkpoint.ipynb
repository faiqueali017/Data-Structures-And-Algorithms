{
 "cells": [
  {
   "cell_type": "markdown",
   "metadata": {},
   "source": [
    "# Largest Continuous Sum Problem"
   ]
  },
  {
   "cell_type": "markdown",
   "metadata": {},
   "source": [
    "<p>\n",
    "    <b>Problem:</b>\n",
    "<p>Given an array of integers (positive and negative) find the largest continuous sum.</p>\n",
    "</p>"
   ]
  },
  {
   "cell_type": "markdown",
   "metadata": {},
   "source": [
    "## Approach:\n",
    "<p>\n",
    "    If the array is all positive, then the result is simply the sum of all numbers. The negative numbers in the array will cause us to need to begin checking sequences.\n",
    "\n",
    "The algorithm is, we start summing up the numbers and store in a current sum variable. After adding each element, we check whether the current sum is larger than maximum sum encountered so far. If it is, we update the maximum sum. As long as the current sum is positive, we keep adding the numbers. When the current sum becomes negative, we start with a new current sum. Because a negative current sum will only decrease the sum of a future sequence. Note that we don’t reset the current sum to 0 because the array can contain all negative integers. Then the result would be the largest negative number.\n",
    "</p>"
   ]
  },
  {
   "cell_type": "code",
   "execution_count": 32,
   "metadata": {},
   "outputs": [],
   "source": [
    "def large_cont_sum(arr):\n",
    "    # Step1: Check if arr len is 0 then simply returns\n",
    "    if len(arr) == 0:\n",
    "        return 0\n",
    "    \n",
    "    # Step2: Initialize max and current sum with arr[0]\n",
    "    max_sum = current_sum = arr[0]\n",
    "    \n",
    "    \n",
    "    # Step3:\n",
    "    for num in arr[1:]:   #Skips first ele, cause already stored\n",
    "        \n",
    "        '''Find which no larger, then current sum + num\n",
    "           or the current arr ele(num) itself. Then reset\n",
    "           current_sum value with larger one.\n",
    "        '''\n",
    "        current_sum = max(current_sum+num, num)\n",
    "         \n",
    "        '''max_sum simply tracks the greater sum between\n",
    "           current_sum and the max_sum, which ever is larger\n",
    "           will store in max_sum\n",
    "        '''\n",
    "        max_sum = max(current_sum, max_sum)\n",
    "        \n",
    "    return max_sum"
   ]
  },
  {
   "cell_type": "code",
   "execution_count": 33,
   "metadata": {},
   "outputs": [
    {
     "data": {
      "text/plain": [
       "29"
      ]
     },
     "execution_count": 33,
     "metadata": {},
     "output_type": "execute_result"
    }
   ],
   "source": [
    "large_cont_sum([1,2,-1,3,4,10,10,-10,-1])"
   ]
  },
  {
   "cell_type": "markdown",
   "metadata": {},
   "source": [
    "### Dry Run:\n",
    "<p>\n",
    "<b>iteration 0:</b>  current_sum + num = 1+(2)=>3 \tnum = 2 \tcurrent_sum = 3      max_sum = 3\n",
    "</p>\n",
    "\n",
    "<p>\n",
    "<b>iteration 1:</b>  current_sum + num = 3+(-1)=>2 \tnum = -1 \tcurrent_sum = 2  max_sum = 3\n",
    "</p>\n",
    "\n",
    "<p>\n",
    "<b>iteration 2:</b>  current_sum + num = 2+(3)=>5 \tnum = 3 \tcurrent_sum = 5   max_sum = 5\n",
    "</p>\n",
    "\n",
    "<p>\n",
    "<b>iteration 3:</b>  current_sum + num = 5+(4)=>9 \tnum = 4 \tcurrent_sum = 9   max_sum = 9\n",
    "</p>\n",
    "\n",
    "<p>\n",
    "<b>iteration 4:</b>  current_sum + num = 9+(10)=>19 \tnum = 10 \tcurrent_sum = 19    max_sum = 19\n",
    "</p>\n",
    "\n",
    "<b>iteration 5:</b>  current_sum + num = 19+(10)=>29 \tnum = 10 \tcurrent_sum = 29   max_sum = 29\n",
    "</p>\n",
    "\n",
    "<p>\n",
    "<b>iteration 6:</b>  current_sum + num = 29+(-10)=>19 \tnum = -10 \tcurrent_sum = 19  max_sum = 29\n",
    "</p>\n",
    "\n",
    "<p>\n",
    "<b>iteration 7:</b>  current_sum + num = 19+(-1)=>18 \tnum = -1 \tcurrent_sum = 18  max_sum = 29\n",
    "</p>"
   ]
  },
  {
   "cell_type": "markdown",
   "metadata": {},
   "source": [
    "## Testing the Solution"
   ]
  },
  {
   "cell_type": "code",
   "execution_count": 5,
   "metadata": {},
   "outputs": [
    {
     "name": "stdout",
     "output_type": "stream",
     "text": [
      "ALL TEST CASES PASSED\n"
     ]
    }
   ],
   "source": [
    "from nose.tools import assert_equal\n",
    "\n",
    "class LargeContTest(object):\n",
    "    def test(self,sol):\n",
    "        assert_equal(sol([1,2,-1,3,4,-1]),9)\n",
    "        assert_equal(sol([1,2,-1,3,4,10,10,-10,-1]),29)\n",
    "        assert_equal(sol([-1,1]),1)\n",
    "        print('ALL TEST CASES PASSED')\n",
    "        \n",
    "#Run Test\n",
    "t = LargeContTest()\n",
    "t.test(large_cont_sum)"
   ]
  }
 ],
 "metadata": {
  "kernelspec": {
   "display_name": "Python 3",
   "language": "python",
   "name": "python3"
  },
  "language_info": {
   "codemirror_mode": {
    "name": "ipython",
    "version": 3
   },
   "file_extension": ".py",
   "mimetype": "text/x-python",
   "name": "python",
   "nbconvert_exporter": "python",
   "pygments_lexer": "ipython3",
   "version": "3.8.5"
  }
 },
 "nbformat": 4,
 "nbformat_minor": 4
}
