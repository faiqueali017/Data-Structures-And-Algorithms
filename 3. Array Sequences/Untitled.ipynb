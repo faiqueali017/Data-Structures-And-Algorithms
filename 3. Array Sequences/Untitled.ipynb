{
 "cells": [
  {
   "cell_type": "markdown",
   "metadata": {},
   "source": [
    "# Anagram Problem\n",
    "\n",
    "<p>Given two strings, check to see if they are anagrams. An anagram is when the two strings can be written using the exact same letters (so you can just rearrange the letters to get a different phrase or word).</p>\n",
    "\n",
    "<p><b>For example:</b></p>\n",
    "\n",
    " \n",
    "<p> \n",
    "    <i>\"public relations\" is an anagram of \"crap built on lies.\"</i> \n",
    "\n",
    "   <i> \"clint eastwood\" is an anagram of \"old west action\"</i>\n",
    "</p>"
   ]
  },
  {
   "cell_type": "markdown",
   "metadata": {},
   "source": [
    "### Approach :01\n",
    "<p>\n",
    "     If two strings have the same frequency of letters/element (meaning each letter shows up the same number of times in both strings) then they are anagrams of eachother. On a similar way of logic, if two strings are equal to each other once they are sorted, then they are also anagrams of each other.\n",
    "    </p>"
   ]
  },
  {
   "cell_type": "code",
   "execution_count": 2,
   "metadata": {},
   "outputs": [],
   "source": [
    "def anagram(s1, s2):\n",
    "    '''This method simply takes both the string\n",
    "       and remove their whitespaces if exits. Then\n",
    "       sorted() arranges their alphabets in sequential\n",
    "       order and simply compares the sorted string.'''\n",
    "    \n",
    "    s1 = s1.replace(' ', '').lower()\n",
    "    s2 = s2.replace(' ', '').lower()\n",
    "    \n",
    "    return sorted(s1) == sorted(s2)"
   ]
  },
  {
   "cell_type": "code",
   "execution_count": 6,
   "metadata": {},
   "outputs": [
    {
     "data": {
      "text/plain": [
       "True"
      ]
     },
     "execution_count": 6,
     "metadata": {},
     "output_type": "execute_result"
    }
   ],
   "source": [
    "anagram('clint eastwood','old west action')"
   ]
  },
  {
   "cell_type": "code",
   "execution_count": 7,
   "metadata": {},
   "outputs": [
    {
     "data": {
      "text/plain": [
       "True"
      ]
     },
     "execution_count": 7,
     "metadata": {},
     "output_type": "execute_result"
    }
   ],
   "source": [
    "anagram('faiq', 'iq af')"
   ]
  },
  {
   "cell_type": "code",
   "execution_count": 8,
   "metadata": {},
   "outputs": [
    {
     "data": {
      "text/plain": [
       "False"
      ]
     },
     "execution_count": 8,
     "metadata": {},
     "output_type": "execute_result"
    }
   ],
   "source": [
    "anagram('ball', 'All')"
   ]
  },
  {
   "cell_type": "markdown",
   "metadata": {},
   "source": [
    "<p>The above approach is although a smart approach, but not good for learning. We should look for some manual approach for solving this problem. </p>"
   ]
  },
  {
   "cell_type": "markdown",
   "metadata": {},
   "source": [
    "### Approach: 02\n",
    "<p> By using dictionary </p>"
   ]
  },
  {
   "cell_type": "code",
   "execution_count": 30,
   "metadata": {},
   "outputs": [],
   "source": [
    "def anagram2(s1, s2):\n",
    "    '''This method takes..'''\n",
    "    \n",
    "    # Step 1: Remove whitespaces from both the strings\n",
    "    s1 = s1.replace(' ', '').lower()\n",
    "    s2 = s2.replace(' ', '').lower()\n",
    "    \n",
    "    \n",
    "    # Step 2: Edge Case Check(if both has same no of letters or not)\n",
    "    if len(s1) != len(s2):\n",
    "        return False\n",
    "    \n",
    "    \n",
    "    # Step 3: If both has same no of letters\n",
    "    count = {}  #Create an empty dictionary\n",
    "    \n",
    "    \n",
    "    # Step 4: Form a dictionary of string 1 with\n",
    "    #         Letter as key and occurance as it's value\n",
    "    for letter in s1:\n",
    "        '''If that letter found in dict so simply increase it's key value.\n",
    "           If not than simply consider it as its first occurance.'''\n",
    "        \n",
    "        if letter in count:\n",
    "            count[letter] += 1 \n",
    "        else:\n",
    "            count[letter] = 1\n",
    "            \n",
    "    print(\"String 1 Dictionary: \",count)\n",
    "    \n",
    "    # Step 5: From the created dictionary of string 1 subtract\n",
    "    #         it's key values\n",
    "    for letter in s2:\n",
    "        '''If that letter found in dict so simply decrease it's key value.\n",
    "           If not than simply consider it as its first occurance.'''\n",
    "        \n",
    "        if letter in count:\n",
    "            count[letter] -= 1\n",
    "        else:\n",
    "            count[letter] = 1\n",
    "            \n",
    "            \n",
    "    # Step 6: Now check every keyvalue of dictionary\n",
    "    #         If keyvalue 0- Anagram      \n",
    "    #         If keyvalue not 0- Not Anagram\n",
    "    for k in count:\n",
    "        if count[k] != 0:\n",
    "            return False\n",
    "        \n",
    "    return True"
   ]
  },
  {
   "cell_type": "code",
   "execution_count": 31,
   "metadata": {},
   "outputs": [
    {
     "name": "stdout",
     "output_type": "stream",
     "text": [
      "String 1 Dictionary:  {'f': 1, 'a': 2, 'i': 2, 'q': 1, 's': 1, 'b': 1, 'o': 1, 'y': 1}\n"
     ]
    },
    {
     "data": {
      "text/plain": [
       "True"
      ]
     },
     "execution_count": 31,
     "metadata": {},
     "output_type": "execute_result"
    }
   ],
   "source": [
    "anagram2('Faiq is aboy', 'Boy is a faiq')"
   ]
  },
  {
   "cell_type": "code",
   "execution_count": 32,
   "metadata": {},
   "outputs": [
    {
     "name": "stdout",
     "output_type": "stream",
     "text": [
      "String 1 Dictionary:  {'c': 1, 'l': 1, 'i': 1, 'n': 1, 't': 2, 'e': 1, 'a': 1, 's': 1, 'w': 1, 'o': 2, 'd': 1}\n"
     ]
    },
    {
     "data": {
      "text/plain": [
       "True"
      ]
     },
     "execution_count": 32,
     "metadata": {},
     "output_type": "execute_result"
    }
   ],
   "source": [
    "anagram2('clint eastwood','old west action')"
   ]
  },
  {
   "cell_type": "markdown",
   "metadata": {},
   "source": [
    "## Testing the Solution"
   ]
  },
  {
   "cell_type": "code",
   "execution_count": 34,
   "metadata": {},
   "outputs": [],
   "source": [
    "\"\"\"\n",
    "FOR TESTING THE SOLUTION\n",
    "\"\"\"\n",
    "from nose.tools import assert_equal\n",
    "\n",
    "class AnagramTest(object):\n",
    "    \n",
    "    def test(self,sol):\n",
    "        assert_equal(sol('go go go','gggooo'),True)\n",
    "        assert_equal(sol('abc','cba'),True)\n",
    "        assert_equal(sol('hi man','hi     man'),True)\n",
    "        assert_equal(sol('aabbcc','aabbc'),False)\n",
    "        assert_equal(sol('123','1 2'),False)\n",
    "        print(\"---ALL TEST CASES PASSED---\")\n",
    "\n",
    "# Run Tests\n",
    "t = AnagramTest()\n"
   ]
  },
  {
   "cell_type": "code",
   "execution_count": null,
   "metadata": {},
   "outputs": [],
   "source": []
  }
 ],
 "metadata": {
  "kernelspec": {
   "display_name": "Python 3",
   "language": "python",
   "name": "python3"
  },
  "language_info": {
   "codemirror_mode": {
    "name": "ipython",
    "version": 3
   },
   "file_extension": ".py",
   "mimetype": "text/x-python",
   "name": "python",
   "nbconvert_exporter": "python",
   "pygments_lexer": "ipython3",
   "version": "3.8.5"
  }
 },
 "nbformat": 4,
 "nbformat_minor": 4
}
