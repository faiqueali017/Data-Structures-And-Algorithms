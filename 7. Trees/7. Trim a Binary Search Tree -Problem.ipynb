{
 "cells": [
  {
   "cell_type": "markdown",
   "metadata": {},
   "source": [
    "# Trim a Binary Search Tree -Problem"
   ]
  },
  {
   "cell_type": "markdown",
   "metadata": {},
   "source": [
    "### Problem Statement\n",
    "<p>Given the root of a binary search tree and 2 numbers min and max, trim the tree such that all the numbers in the new tree are between min and max (inclusive). The resulting tree should still be a valid binary search tree. So, if we get this tree as input: </p>\n"
   ]
  },
  {
   "cell_type": "markdown",
   "metadata": {},
   "source": [
    "<img src = \"bst1.png\">\n",
    "\n",
    "<p>and we’re given <b>min value as 5</b> and<b> max value as 13</b>, then the resulting binary search tree should be: </p>"
   ]
  },
  {
   "cell_type": "markdown",
   "metadata": {},
   "source": [
    "<img src = \"bst_trim.png\">\n",
    "\n",
    "<p>We should remove all the nodes whose value is not between min and max. </p>"
   ]
  },
  {
   "cell_type": "markdown",
   "metadata": {},
   "source": [
    "### Solution"
   ]
  },
  {
   "cell_type": "code",
   "execution_count": 4,
   "metadata": {},
   "outputs": [],
   "source": [
    "def trimBST(tree, minVal, maxVal):\n",
    "    \n",
    "    if not tree:\n",
    "        return\n",
    "    \n",
    "    # Each node is returning a ref based on its value, which we are storing\n",
    "    tree.left = trimBST(tree.left, minVal, maxVal)\n",
    "    tree.right = trimBST(tree.right, minVal, maxVal)\n",
    "    \n",
    "    # If val lies in our given range no need to do anything\n",
    "    if minVal <= tree.val <= maxVal:\n",
    "        return tree\n",
    "    \n",
    "    # When its less than the min value\n",
    "    if tree.val < minVal:\n",
    "        return tree.right\n",
    "    \n",
    "    # When its greater than the max\n",
    "    if tree.val > maxVal:\n",
    "        return tree.left\n",
    "    "
   ]
  },
  {
   "cell_type": "markdown",
   "metadata": {},
   "source": [
    "<p>The complexity of this algorithm is O(N), where N is the number of nodes in the tree. Because we basically perform a post-order traversal of the tree, visiting each and every node one. This is optimal because we should visit every node at least once. This is a very elegant question that demonstrates the effectiveness of recursion in trees.</p>"
   ]
  }
 ],
 "metadata": {
  "kernelspec": {
   "display_name": "Python 3",
   "language": "python",
   "name": "python3"
  },
  "language_info": {
   "codemirror_mode": {
    "name": "ipython",
    "version": 3
   },
   "file_extension": ".py",
   "mimetype": "text/x-python",
   "name": "python",
   "nbconvert_exporter": "python",
   "pygments_lexer": "ipython3",
   "version": "3.8.5"
  }
 },
 "nbformat": 4,
 "nbformat_minor": 4
}
