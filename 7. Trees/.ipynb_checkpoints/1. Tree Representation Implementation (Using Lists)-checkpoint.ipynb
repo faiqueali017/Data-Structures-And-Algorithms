{
 "cells": [
  {
   "cell_type": "markdown",
   "metadata": {},
   "source": [
    "# Tree Representation Implementation (Using Lists)"
   ]
  },
  {
   "cell_type": "code",
   "execution_count": 10,
   "metadata": {},
   "outputs": [],
   "source": [
    "def BinaryTree(r):\n",
    "    '''\n",
    "       Constructs a list [root node, left node, right node]\n",
    "    '''\n",
    "    return [r,[],[]]  "
   ]
  },
  {
   "cell_type": "code",
   "execution_count": 11,
   "metadata": {},
   "outputs": [],
   "source": [
    "def insertLeft(root, newBranch):\n",
    "    \n",
    "    # Pop out element at index 1 (left node)\n",
    "    t = root.pop(1)\n",
    "    \n",
    "    # If already a list then\n",
    "    if len(t) > 1:\n",
    "        root.insert(1, [newBranch, t, []])\n",
    "    else:\n",
    "        root.insert(1, [newBranch, [], []])\n",
    "        \n",
    "    return root"
   ]
  },
  {
   "cell_type": "code",
   "execution_count": 12,
   "metadata": {},
   "outputs": [],
   "source": [
    "def insertRight(root, newBranch):\n",
    "    \n",
    "    # Pop out element at index 2 (Right node)\n",
    "    t = root.pop(2)\n",
    "    \n",
    "    # If already a list then\n",
    "    if len(t) > 1:\n",
    "        root.insert(2, [newBranch, [], t])\n",
    "    else:\n",
    "        root.insert(2, [newBranch, [], []])\n",
    "        \n",
    "    return root"
   ]
  },
  {
   "cell_type": "code",
   "execution_count": 13,
   "metadata": {},
   "outputs": [],
   "source": [
    "def getRootVal(root):\n",
    "    return root[0]"
   ]
  },
  {
   "cell_type": "code",
   "execution_count": 25,
   "metadata": {},
   "outputs": [],
   "source": [
    "def setRootVal(root, newVal):\n",
    "    root[0] = newVal"
   ]
  },
  {
   "cell_type": "code",
   "execution_count": 26,
   "metadata": {},
   "outputs": [],
   "source": [
    "def getLeftChild(root):\n",
    "    return root[1]"
   ]
  },
  {
   "cell_type": "code",
   "execution_count": 27,
   "metadata": {},
   "outputs": [],
   "source": [
    "def getRightChild(root):\n",
    "    return root[2]"
   ]
  },
  {
   "cell_type": "code",
   "execution_count": 28,
   "metadata": {},
   "outputs": [],
   "source": [
    "r = BinaryTree(3)"
   ]
  },
  {
   "cell_type": "code",
   "execution_count": 29,
   "metadata": {},
   "outputs": [
    {
     "data": {
      "text/plain": [
       "[3, [4, [], []], []]"
      ]
     },
     "execution_count": 29,
     "metadata": {},
     "output_type": "execute_result"
    }
   ],
   "source": [
    "insertLeft(r,4)"
   ]
  },
  {
   "cell_type": "code",
   "execution_count": 30,
   "metadata": {},
   "outputs": [
    {
     "data": {
      "text/plain": [
       "[3, [4, [], []], [6, [], []]]"
      ]
     },
     "execution_count": 30,
     "metadata": {},
     "output_type": "execute_result"
    }
   ],
   "source": [
    "insertRight(r,6)"
   ]
  },
  {
   "cell_type": "code",
   "execution_count": 31,
   "metadata": {},
   "outputs": [
    {
     "data": {
      "text/plain": [
       "[3, [4, [], []], [7, [], [6, [], []]]]"
      ]
     },
     "execution_count": 31,
     "metadata": {},
     "output_type": "execute_result"
    }
   ],
   "source": [
    "insertRight(r,7)"
   ]
  },
  {
   "cell_type": "code",
   "execution_count": 32,
   "metadata": {},
   "outputs": [
    {
     "name": "stdout",
     "output_type": "stream",
     "text": [
      "[4, [], []]\n"
     ]
    }
   ],
   "source": [
    "l = getLeftChild(r)\n",
    "print(l)"
   ]
  },
  {
   "cell_type": "code",
   "execution_count": 34,
   "metadata": {},
   "outputs": [
    {
     "name": "stdout",
     "output_type": "stream",
     "text": [
      "[3, [9, [], []], [7, [], [6, [], []]]]\n"
     ]
    }
   ],
   "source": [
    "setRootVal(l,9)\n",
    "print(r)"
   ]
  }
 ],
 "metadata": {
  "kernelspec": {
   "display_name": "Python 3",
   "language": "python",
   "name": "python3"
  },
  "language_info": {
   "codemirror_mode": {
    "name": "ipython",
    "version": 3
   },
   "file_extension": ".py",
   "mimetype": "text/x-python",
   "name": "python",
   "nbconvert_exporter": "python",
   "pygments_lexer": "ipython3",
   "version": "3.8.5"
  }
 },
 "nbformat": 4,
 "nbformat_minor": 4
}
