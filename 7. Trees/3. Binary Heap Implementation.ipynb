{
 "cells": [
  {
   "cell_type": "markdown",
   "metadata": {},
   "source": [
    "# Binary Heap Implementation"
   ]
  },
  {
   "cell_type": "markdown",
   "metadata": {},
   "source": [
    "### Binary Heap Operations\n",
    "<p>The basic operations we will implement for our binary heap are as follows:</p>\n",
    "\n",
    "<li>BinaryHeap() creates a new, empty, binary heap.</li>\n",
    "<li>insert(k) adds a new item to the heap.</li>\n",
    "<li>findMin() returns the item with the minimum key value, leaving item in the heap.</li>\n",
    "<li>delMin() returns the item with the minimum key value, removing the item from the heap.</li>\n",
    "<li>isEmpty() returns true if the heap is empty, false otherwise.</li>\n",
    "<li>size() returns the number of items in the heap.</li>\n",
    "<li>buildHeap(list) builds a new heap from a list of keys.</li>"
   ]
  },
  {
   "cell_type": "code",
   "execution_count": null,
   "metadata": {},
   "outputs": [],
   "source": []
  }
 ],
 "metadata": {
  "kernelspec": {
   "display_name": "Python 3",
   "language": "python",
   "name": "python3"
  },
  "language_info": {
   "codemirror_mode": {
    "name": "ipython",
    "version": 3
   },
   "file_extension": ".py",
   "mimetype": "text/x-python",
   "name": "python",
   "nbconvert_exporter": "python",
   "pygments_lexer": "ipython3",
   "version": "3.8.5"
  }
 },
 "nbformat": 4,
 "nbformat_minor": 4
}
