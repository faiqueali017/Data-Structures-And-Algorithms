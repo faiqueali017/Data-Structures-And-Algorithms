{
 "cells": [
  {
   "cell_type": "markdown",
   "metadata": {},
   "source": [
    "# Implementation of Stack "
   ]
  },
  {
   "cell_type": "markdown",
   "metadata": {},
   "source": [
    "## Stack Attributes and Methods\n",
    "\n",
    "<p>Before we implement our own Stack class, let's review the properties and methods of a Stack.\n",
    "\n",
    "The stack abstract data type is defined by the following structure and operations. A stack is structured, as described above, as an ordered collection of items where items are added to and removed from the end called the “top.” Stacks are ordered LIFO. The stack operations are given below. </p>\n",
    "\n",
    "<li> Stack() creates a new stack that is empty. It needs no parameters and returns an empty stack.</li>\n",
    "<li>push(item) adds a new item to the top of the stack. It needs the item and returns nothing.</li>\n",
    "<li>pop() removes the top item from the stack. It needs no parameters and returns the item. The stack is modified.</li>\n",
    "<li>peek() returns the top item from the stack but does not remove it. It needs no parameters. The stack is not modified.</li>\n",
    "<li>isEmpty() tests to see whether the stack is empty. It needs no parameters and returns a boolean value.</li>\n",
    "<li>size() returns the number of items on the stack. It needs no parameters and returns an integer.</li>"
   ]
  },
  {
   "cell_type": "code",
   "execution_count": 31,
   "metadata": {},
   "outputs": [],
   "source": [
    "class Stack(object):\n",
    "    \n",
    "    # Creating empty, when initialization\n",
    "    def __init__(self):\n",
    "        self.items = []\n",
    "        \n",
    "    # To check if empty list\n",
    "    def isEmpty(self):\n",
    "        return self.items == []\n",
    "    \n",
    "    # To add new item\n",
    "    def push(self,item):\n",
    "        self.items.append(item)\n",
    "       \n",
    "    # To pop out the last(to most) item\n",
    "    def pop(self):\n",
    "        if self.items == []:\n",
    "            print('Stack is empty')\n",
    "        else:\n",
    "            return self.items.pop()\n",
    "    \n",
    "    # Return the top most\n",
    "    def peek(self):\n",
    "        return self.items[len(self.items)-1]\n",
    "        \n",
    "    # To give current size of stack\n",
    "    def size(self):\n",
    "        return len(self.items)"
   ]
  },
  {
   "cell_type": "code",
   "execution_count": 32,
   "metadata": {},
   "outputs": [],
   "source": [
    "# Creating instance\n",
    "s = Stack()"
   ]
  },
  {
   "cell_type": "code",
   "execution_count": 39,
   "metadata": {},
   "outputs": [
    {
     "name": "stdout",
     "output_type": "stream",
     "text": [
      "True\n"
     ]
    }
   ],
   "source": [
    "print(s.isEmpty())"
   ]
  },
  {
   "cell_type": "code",
   "execution_count": 40,
   "metadata": {},
   "outputs": [],
   "source": [
    "# Push an item to stack\n",
    "s.push('two')"
   ]
  },
  {
   "cell_type": "code",
   "execution_count": 41,
   "metadata": {},
   "outputs": [
    {
     "data": {
      "text/plain": [
       "'two'"
      ]
     },
     "execution_count": 41,
     "metadata": {},
     "output_type": "execute_result"
    }
   ],
   "source": [
    "# Peek the top most item\n",
    "s.peek()"
   ]
  },
  {
   "cell_type": "code",
   "execution_count": 42,
   "metadata": {},
   "outputs": [],
   "source": [
    "# Push another item to stack\n",
    "s.push(True)"
   ]
  },
  {
   "cell_type": "code",
   "execution_count": 43,
   "metadata": {},
   "outputs": [
    {
     "data": {
      "text/plain": [
       "2"
      ]
     },
     "execution_count": 43,
     "metadata": {},
     "output_type": "execute_result"
    }
   ],
   "source": [
    "# Get current size\n",
    "s.size()"
   ]
  },
  {
   "cell_type": "code",
   "execution_count": 44,
   "metadata": {},
   "outputs": [
    {
     "data": {
      "text/plain": [
       "True"
      ]
     },
     "execution_count": 44,
     "metadata": {},
     "output_type": "execute_result"
    }
   ],
   "source": [
    "# Pop an item\n",
    "s.pop()"
   ]
  },
  {
   "cell_type": "code",
   "execution_count": 45,
   "metadata": {},
   "outputs": [
    {
     "data": {
      "text/plain": [
       "'two'"
      ]
     },
     "execution_count": 45,
     "metadata": {},
     "output_type": "execute_result"
    }
   ],
   "source": [
    "# Pop another item\n",
    "s.pop()"
   ]
  },
  {
   "cell_type": "code",
   "execution_count": 46,
   "metadata": {},
   "outputs": [
    {
     "name": "stdout",
     "output_type": "stream",
     "text": [
      "Stack is empty\n"
     ]
    }
   ],
   "source": [
    "# Pop another item\n",
    "s.pop()"
   ]
  },
  {
   "cell_type": "code",
   "execution_count": null,
   "metadata": {},
   "outputs": [],
   "source": []
  }
 ],
 "metadata": {
  "kernelspec": {
   "display_name": "Python 3",
   "language": "python",
   "name": "python3"
  },
  "language_info": {
   "codemirror_mode": {
    "name": "ipython",
    "version": 3
   },
   "file_extension": ".py",
   "mimetype": "text/x-python",
   "name": "python",
   "nbconvert_exporter": "python",
   "pygments_lexer": "ipython3",
   "version": "3.8.5"
  }
 },
 "nbformat": 4,
 "nbformat_minor": 4
}
