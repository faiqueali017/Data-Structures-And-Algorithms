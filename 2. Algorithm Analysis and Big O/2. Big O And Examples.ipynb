{
 "cells": [
  {
   "cell_type": "markdown",
   "metadata": {},
   "source": [
    "### O(1) Constant"
   ]
  },
  {
   "cell_type": "code",
   "execution_count": 8,
   "metadata": {},
   "outputs": [],
   "source": [
    "def func_constant(values):\n",
    "    '''No matter how big the list, this func will only print 1 value'''\n",
    "    print(values[1]) \n",
    "     "
   ]
  },
  {
   "cell_type": "code",
   "execution_count": 9,
   "metadata": {},
   "outputs": [
    {
     "name": "stdout",
     "output_type": "stream",
     "text": [
      "2\n"
     ]
    }
   ],
   "source": [
    "# Creating a list\n",
    "lst = [1,2,3]\n",
    "\n",
    "# Calling func and passing the list\n",
    "func_constant(lst)"
   ]
  },
  {
   "cell_type": "markdown",
   "metadata": {},
   "source": [
    "### O(n) Linear"
   ]
  },
  {
   "cell_type": "code",
   "execution_count": 12,
   "metadata": {},
   "outputs": [],
   "source": [
    "def func_lin(lst):\n",
    "    '''It scales linearly on the n value provided'''\n",
    "    for val in lst:\n",
    "        print(val)"
   ]
  },
  {
   "cell_type": "code",
   "execution_count": 14,
   "metadata": {},
   "outputs": [
    {
     "name": "stdout",
     "output_type": "stream",
     "text": [
      "1\n",
      "2\n",
      "3\n",
      "4\n",
      "5\n",
      "6\n"
     ]
    }
   ],
   "source": [
    "# Creating a list\n",
    "lst1 = [1,2,3,4,5,6]\n",
    "\n",
    "# Calling func and passing the list\n",
    "func_lin(lst1)"
   ]
  },
  {
   "cell_type": "markdown",
   "metadata": {},
   "source": [
    "### O(n^2) Quadratic"
   ]
  },
  {
   "cell_type": "code",
   "execution_count": 21,
   "metadata": {},
   "outputs": [],
   "source": [
    "def func_quad(lst):\n",
    "    '''It scales quadratically according to the given n value.\n",
    "       This seems quite dangerous when we have a large input ! '''\n",
    "    for item_1 in lst:\n",
    "        for item_2 in lst:\n",
    "            print(item_1,item_2)"
   ]
  },
  {
   "cell_type": "code",
   "execution_count": 22,
   "metadata": {},
   "outputs": [
    {
     "name": "stdout",
     "output_type": "stream",
     "text": [
      "0 0\n",
      "0 1\n",
      "0 2\n",
      "0 3\n",
      "1 0\n",
      "1 1\n",
      "1 2\n",
      "1 3\n",
      "2 0\n",
      "2 1\n",
      "2 2\n",
      "2 3\n",
      "3 0\n",
      "3 1\n",
      "3 2\n",
      "3 3\n"
     ]
    }
   ],
   "source": [
    "# Creating a list\n",
    "lst3 = [0,1,2,3]\n",
    "\n",
    "# Calling func and passing the list\n",
    "func_quad(lst3)"
   ]
  },
  {
   "cell_type": "markdown",
   "metadata": {},
   "source": [
    "### Calculating more sample functions Big O"
   ]
  },
  {
   "cell_type": "code",
   "execution_count": 30,
   "metadata": {},
   "outputs": [],
   "source": [
    "def print_2(lst):\n",
    "    '''O(n) for this'''\n",
    "    for val in lst:\n",
    "        print(val)\n",
    "    \n",
    "    '''O(n) for this'''\n",
    "    for val in lst:\n",
    "        print(val)\n",
    "        \n",
    "    '''Its a linear. \n",
    "       O(n) + O(n) => O(2n) ;can drop the constant '2'\n",
    "                             cause twice infinity remains infinity.\n",
    "    '''"
   ]
  },
  {
   "cell_type": "code",
   "execution_count": 31,
   "metadata": {},
   "outputs": [
    {
     "name": "stdout",
     "output_type": "stream",
     "text": [
      "1\n",
      "2\n",
      "3\n",
      "1\n",
      "2\n",
      "3\n"
     ]
    }
   ],
   "source": [
    "print_2(lst)"
   ]
  },
  {
   "cell_type": "code",
   "execution_count": 47,
   "metadata": {},
   "outputs": [],
   "source": [
    "def comp(lst):\n",
    "    # 1- Simple print operation  => Big O: O(1)\n",
    "    print(lst[0])  \n",
    "    \n",
    "    # 2- Taking mid point and print list  => Big O: O(n/2) same as O(1/2 * n)\n",
    "    midpoint = len(lst)/2\n",
    "    \n",
    "    for val in lst[:int(midpoint)]:\n",
    "        print(\"Operation 2: \",val)\n",
    "        \n",
    "    # 3- Printing x10 times  => Big O: O(10)\n",
    "    for x in range(10):\n",
    "        print(\"Helloworld!!\")\n",
    "        "
   ]
  },
  {
   "cell_type": "code",
   "execution_count": 48,
   "metadata": {},
   "outputs": [
    {
     "name": "stdout",
     "output_type": "stream",
     "text": [
      "1\n",
      "Operation 2:  1\n",
      "Operation 2:  2\n",
      "Operation 2:  3\n",
      "Operation 2:  4\n",
      "Operation 2:  5\n",
      "Helloworld!!\n",
      "Helloworld!!\n",
      "Helloworld!!\n",
      "Helloworld!!\n",
      "Helloworld!!\n",
      "Helloworld!!\n",
      "Helloworld!!\n",
      "Helloworld!!\n",
      "Helloworld!!\n",
      "Helloworld!!\n"
     ]
    }
   ],
   "source": [
    "lst = [1,2,3,4,5,6,7,8,9,10]\n",
    "\n",
    "comp(lst)"
   ]
  },
  {
   "cell_type": "markdown",
   "metadata": {},
   "source": [
    "<p> So let's break down the operations here. We can combine each operation to get the total Big-O of the function:\n",
    "\n",
    "$$ O(1+n/2+10) $$\n",
    "We can see that as n grows larger the 1 and 10 terms become insignificant and the 1/2 term multiplied against n will also not have much of an effect as n goes towards infinity. This means the function is simply:! </p>\n"
   ]
  },
  {
   "cell_type": "code",
   "execution_count": null,
   "metadata": {},
   "outputs": [],
   "source": []
  },
  {
   "cell_type": "code",
   "execution_count": null,
   "metadata": {},
   "outputs": [],
   "source": []
  }
 ],
 "metadata": {
  "kernelspec": {
   "display_name": "Python 3",
   "language": "python",
   "name": "python3"
  },
  "language_info": {
   "codemirror_mode": {
    "name": "ipython",
    "version": 3
   },
   "file_extension": ".py",
   "mimetype": "text/x-python",
   "name": "python",
   "nbconvert_exporter": "python",
   "pygments_lexer": "ipython3",
   "version": "3.8.5"
  }
 },
 "nbformat": 4,
 "nbformat_minor": 4
}
