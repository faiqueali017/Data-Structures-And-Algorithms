{
 "cells": [
  {
   "cell_type": "markdown",
   "metadata": {},
   "source": [
    "# Introduction to Algorithm Analysis and Big O\n",
    "<p> In this we will discuss how to analyze Algorithms and why it is important to do so! </p>"
   ]
  },
  {
   "cell_type": "markdown",
   "metadata": {},
   "source": [
    "### Why analyze algorithms?\n",
    "\n",
    "<p>An algorithm is simply a procedure or formula for solving a problem. Some problems are famous enough that the algorithms have names, as well as some procdures being common enough that the algorithm associated with it also has a name.</p>\n",
    "<p>The need for analyzing algorithm would help in letting us know the efficiency and complexity of the algorithm. </p>"
   ]
  },
  {
   "cell_type": "markdown",
   "metadata": {},
   "source": [
    "### Example :01\n",
    "\n",
    "<p> This func will iteratively adds the numbers. </p>"
   ]
  },
  {
   "cell_type": "code",
   "execution_count": 2,
   "metadata": {},
   "outputs": [],
   "source": [
    "def sum1(n):\n",
    "    final_sum = 0\n",
    "    \n",
    "    for x in range(n+1):\n",
    "        final_sum += x\n",
    "        \n",
    "    return final_sum"
   ]
  },
  {
   "cell_type": "code",
   "execution_count": 3,
   "metadata": {},
   "outputs": [
    {
     "data": {
      "text/plain": [
       "55"
      ]
     },
     "execution_count": 3,
     "metadata": {},
     "output_type": "execute_result"
    }
   ],
   "source": [
    "sum1(10)"
   ]
  },
  {
   "cell_type": "code",
   "execution_count": 6,
   "metadata": {},
   "outputs": [
    {
     "name": "stdout",
     "output_type": "stream",
     "text": [
      "546 ns ± 5.52 ns per loop (mean ± std. dev. of 7 runs, 1000000 loops each)\n"
     ]
    }
   ],
   "source": [
    "# timeit measure the execution time for code snippet\n",
    "%timeit sum1(10)"
   ]
  },
  {
   "cell_type": "markdown",
   "metadata": {},
   "source": [
    "### Example :02\n",
    "<p>This func will use this formula to calculate the result. </p>\n",
    "$$ \\sum_{i=0}^n i = n*(n+1)/2 $$"
   ]
  },
  {
   "cell_type": "code",
   "execution_count": 4,
   "metadata": {},
   "outputs": [],
   "source": [
    "def sum2(n):\n",
    "    return (n*(n+1))/2"
   ]
  },
  {
   "cell_type": "code",
   "execution_count": 5,
   "metadata": {},
   "outputs": [
    {
     "data": {
      "text/plain": [
       "55.0"
      ]
     },
     "execution_count": 5,
     "metadata": {},
     "output_type": "execute_result"
    }
   ],
   "source": [
    "sum2(10)"
   ]
  },
  {
   "cell_type": "code",
   "execution_count": 7,
   "metadata": {},
   "outputs": [
    {
     "name": "stdout",
     "output_type": "stream",
     "text": [
      "94.8 ns ± 0.638 ns per loop (mean ± std. dev. of 7 runs, 10000000 loops each)\n"
     ]
    }
   ],
   "source": [
    "%timeit sum2(10)"
   ]
  },
  {
   "cell_type": "markdown",
   "metadata": {},
   "source": [
    "### Runtime of Common Big-O Funtions\n",
    "\n",
    "<table>\n",
    "    <tr>\n",
    "        <th>Big-O</th>\n",
    "        <th>Name</th>\n",
    "    </tr>\n",
    "    <tr>\n",
    "        <td>1</td>\n",
    "        <td>Constant</td>\n",
    "    </tr>\n",
    "    <tr>\n",
    "        <td>log(n)</td>\n",
    "        <td>Logarithmic</td>\n",
    "    </tr>\n",
    "    <tr>\n",
    "        <td>n</td>\n",
    "        <td>Linear</td>\n",
    "    </tr>\n",
    "    <tr>\n",
    "        <td>n log(n)</td>\n",
    "        <td>Log Linear</td>\n",
    "    </tr>\n",
    "    <tr>\n",
    "        <td>n^2</td>\n",
    "        <td>Quadratic</td>\n",
    "    </tr>\n",
    "    <tr>\n",
    "        <td>n^3</td>\n",
    "        <td>Cubic</td>\n",
    "    </tr>\n",
    "    <tr>\n",
    "        <td>2^n</td>\n",
    "        <td>Exponential</td>\n",
    "    </tr>\n",
    "</table>\n",
    "\n",
    "<p>\n",
    "    <b>Reference Link :</b> https://www.bigocheatsheet.com/\n",
    "</p>"
   ]
  },
  {
   "cell_type": "markdown",
   "metadata": {},
   "source": [
    "### Conclusion \n",
    "\n",
    "<p>We can see that the second function is much more efficient! Running at a much faster rate than the first. However, we can not use \"time to run\" as an objective measurement, because that will depend on the speed of the computer itself and hardware capabilities. So we will need to use another method, Big-O! </p>"
   ]
  }
 ],
 "metadata": {
  "kernelspec": {
   "display_name": "Python 3",
   "language": "python",
   "name": "python3"
  },
  "language_info": {
   "codemirror_mode": {
    "name": "ipython",
    "version": 3
   },
   "file_extension": ".py",
   "mimetype": "text/x-python",
   "name": "python",
   "nbconvert_exporter": "python",
   "pygments_lexer": "ipython3",
   "version": "3.8.5"
  }
 },
 "nbformat": 4,
 "nbformat_minor": 4
}
