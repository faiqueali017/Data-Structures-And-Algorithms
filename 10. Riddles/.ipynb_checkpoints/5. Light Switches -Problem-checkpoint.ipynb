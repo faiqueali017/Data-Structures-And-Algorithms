{
 "cells": [
  {
   "cell_type": "markdown",
   "metadata": {},
   "source": [
    "# Light Switches - SOLUTION\n",
    "\n",
    "\n",
    "### Problem Statement\n",
    "<p>You are in a hallway next to three light switches, all of which are off. Each switch activates a different incandescent light bulb in the room at the end of the hall. You cannot see the lights from where the switches are. Your task is to determine which light corresponds to each switch. However, you may go into the room with the lights only once.\n",
    "\n",
    "Note: This is a \"trick\" question, so don't spend too much time on it. Although it is more on the \"fun\" side of brain teaser type questions.</p>\n",
    "\n",
    "### Solution\n",
    "<p>This is a bit of a trick question and hopefully you don't get asked this type of question in an interview, since its not really math or logic based. The solution is to realize that you can leave an incandescent light bulb on for awhile until it heats up.\n",
    "\n",
    "So the solution is to turn on switch 1 and wait for 15 minutes until that corrresponding bulb is hot. Then turn it off and turn on switch 2 then head to the room. Then you know that:\n",
    "\n",
    "<ul>\n",
    "  <li>The bulb which is hot corresponds to switch 1</li>\n",
    "  <li>The bulb which is on corresponds to switch 2</li>\n",
    "  <li>The bulb which is off corresponds to switch 3</li>\n",
    "</ul>  \n",
    "    \n",
    "</p>"
   ]
  }
 ],
 "metadata": {
  "kernelspec": {
   "display_name": "Python 3",
   "language": "python",
   "name": "python3"
  },
  "language_info": {
   "codemirror_mode": {
    "name": "ipython",
    "version": 3
   },
   "file_extension": ".py",
   "mimetype": "text/x-python",
   "name": "python",
   "nbconvert_exporter": "python",
   "pygments_lexer": "ipython3",
   "version": "3.8.5"
  }
 },
 "nbformat": 4,
 "nbformat_minor": 4
}
