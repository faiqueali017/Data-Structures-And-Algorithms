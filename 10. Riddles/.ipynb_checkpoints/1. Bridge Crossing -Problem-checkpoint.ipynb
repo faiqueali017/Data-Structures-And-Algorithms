{
 "cells": [
  {
   "cell_type": "markdown",
   "metadata": {},
   "source": [
    "# Bridge Crossing -Problem"
   ]
  },
  {
   "cell_type": "markdown",
   "metadata": {},
   "source": [
    "<p>\n",
    "    A group of four travelers comes to a bridge at night. The bridge can hold the weight of at most only two of the travelers at a time, and it can- not be crossed without using a flashlight.\n",
    "\n",
    "The travelers have one flashlight among them. Each traveler walks at a different speed: The first can cross the bridge in 1 minute, the second in 2 minutes, the third in 5 minutes, and the fourth takes 10 minutes to cross the bridge. If two travelers cross together, they walk at the speed of the slower traveler.\n",
    "\n",
    "What is the least amount of time in which all the travelers can cross from one side of the bridge to the other?\n",
    "</p>"
   ]
  },
  {
   "cell_type": "markdown",
   "metadata": {},
   "source": [
    "## Solution:\n",
    "\n",
    "<p> This is part of a common group of <b>river crossing puzzles</b>. Its know as the <b>Bridge and Torch problem</b> (sometimes the times assigned to each person are different).\n",
    "</p>\n",
    "</br>\n",
    "\n"
   ]
  },
  {
   "cell_type": "markdown",
   "metadata": {},
   "source": [
    "<table>\n",
    "  <tr>\n",
    "    <th>Move</th>\n",
    "    <th>Time</th>\n",
    "  </tr>\n",
    "  <tr>\n",
    "    <td>(1) and (2) Cross with Torch</td>\n",
    "    <td>2 mins</td>\n",
    "  </tr>\n",
    "  <tr>\n",
    "    <td>(1) returns with Torch</td>\n",
    "    <td>1 min</td>\n",
    "  </tr>\n",
    "  <tr>\n",
    "    <td>(5) and (1) Cross with Torch</td>\n",
    "    <td>10 mins</td>\n",
    "  </tr>\n",
    "  <tr>\n",
    "    <td>(2) returns with Torch</td>\n",
    "    <td>2 min</td>\n",
    "  </tr>\n",
    "  <tr>\n",
    "    <td>(1) and (2) Cross with Torch</td>\n",
    "    <td>2 mins</td>\n",
    "  </tr>\n",
    "  <tr>\n",
    "    <td></td>\n",
    "    <td>17  mins</td>\n",
    "  </tr>\n",
    "  \n",
    "</table>\n"
   ]
  }
 ],
 "metadata": {
  "kernelspec": {
   "display_name": "Python 3",
   "language": "python",
   "name": "python3"
  },
  "language_info": {
   "codemirror_mode": {
    "name": "ipython",
    "version": 3
   },
   "file_extension": ".py",
   "mimetype": "text/x-python",
   "name": "python",
   "nbconvert_exporter": "python",
   "pygments_lexer": "ipython3",
   "version": "3.8.5"
  }
 },
 "nbformat": 4,
 "nbformat_minor": 4
}
