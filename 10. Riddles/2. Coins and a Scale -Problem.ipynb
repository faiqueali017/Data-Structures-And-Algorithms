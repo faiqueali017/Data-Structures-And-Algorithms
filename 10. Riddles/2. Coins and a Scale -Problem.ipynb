{
 "cells": [
  {
   "cell_type": "markdown",
   "metadata": {},
   "source": [
    "# Coins and a Scale -Problem"
   ]
  },
  {
   "cell_type": "markdown",
   "metadata": {},
   "source": [
    "## Problem Statement\n",
    "<p>You have <b>eight coins</b> and a <b>two-pan scale</b>. All the coins weigh the same, except for one which is heavier than all the others. The coins are otherwise indistinguishable. You may make no assumptions about how much heavier the heavy coin is. What is the minimum number of weighings needed to be certain of identifying the heavy coin?</p>"
   ]
  },
  {
   "cell_type": "markdown",
   "metadata": {},
   "source": [
    "### Solution \n",
    "<p>As we have total 8 coins, divide the coins into three groups. Group 1 and 2 containing 3 coins and Group 3 containing the left over 2 coins. Now measure Group 1 and Group 2 on pan scales. If they both weight the same, it means that the heavy coin is in the Group 3. Now you can weight both the 2 coins of Group 3 and find the heavier coin.</p>\n",
    "\n",
    "<p><b>Total No. of Weighs by using this apporach: 2</b></p>"
   ]
  },
  {
   "cell_type": "markdown",
   "metadata": {},
   "source": [
    "<p>If on the other hand, when you are weighting Group 1 and 2 and found that one of the group of coins is heavier than the other. So you can eliminate all the other groups coins and weight only that group coins(3 coins) by selecting any two of them and weight them against each other. If both pans weights the same it means the heavier coin is the one which is not measured.</p>\n",
    "\n",
    "<p><b>Total No. of Weighs by using this apporach: 2</b></p>"
   ]
  },
  {
   "cell_type": "markdown",
   "metadata": {},
   "source": [
    "Begin by dividing the coins into two groups of three, which you put on the scale, and one group of two, which you leave off. If the two sides weigh the same, the heavy coin is in the group of two, and you can find it with one more weighing, for a total of two weighings. On the other hand, if either side of the scale is heavier, the heavy coin must be in that group of three. You can eliminate all the other coins, and place one coin from this group on either side of the scale, leaving the third coin aside. If one side is heavier, it contains the heavy coin; if neither side is heavier, the heavy coin is the one you didn’t place on the scale. This is also a total of two weighings, so you can always find the heavy coin in a group of eight using two weighings."
   ]
  }
 ],
 "metadata": {
  "kernelspec": {
   "display_name": "Python 3",
   "language": "python",
   "name": "python3"
  },
  "language_info": {
   "codemirror_mode": {
    "name": "ipython",
    "version": 3
   },
   "file_extension": ".py",
   "mimetype": "text/x-python",
   "name": "python",
   "nbconvert_exporter": "python",
   "pygments_lexer": "ipython3",
   "version": "3.8.5"
  }
 },
 "nbformat": 4,
 "nbformat_minor": 4
}
